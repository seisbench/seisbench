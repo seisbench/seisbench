{
 "cells": [
  {
   "cell_type": "markdown",
   "id": "e5918622",
   "metadata": {},
   "source": [
    "<a href=\"https://colab.research.google.com/github/seisbench/seisbench/blob/additional_example_workflows/examples/02c_depth_phases.ipynb\" target=\"_parent\"><img src=\"https://colab.research.google.com/assets/colab-badge.svg\" alt=\"Open In Colab\"/></a>"
   ]
  },
  {
   "cell_type": "markdown",
   "id": "6c88244e",
   "metadata": {},
   "source": [
    "![image](https://raw.githubusercontent.com/seisbench/seisbench/main/docs/_static/seisbench_logo_subtitle_outlined.svg)"
   ]
  },
  {
   "cell_type": "markdown",
   "id": "30f9ce04",
   "metadata": {},
   "source": [
    "*This code is necessary on colab to install SeisBench. If SeisBench is already installed on your machine, you can skip this.*"
   ]
  },
  {
   "cell_type": "code",
   "execution_count": null,
   "id": "cc7e6ea2",
   "metadata": {
    "scrolled": true
   },
   "outputs": [],
   "source": [
    "!pip install seisbench"
   ]
  },
  {
   "cell_type": "markdown",
   "id": "42a02fd5",
   "metadata": {},
   "source": [
    "This cell is required to circumvent an issue with colab and obspy. For details, check this issue in the obspy documentation: https://github.com/obspy/obspy/issues/2547"
   ]
  },
  {
   "cell_type": "code",
   "execution_count": null,
   "id": "e83c2076",
   "metadata": {},
   "outputs": [],
   "source": [
    "try:\n",
    "    import obspy\n",
    "    obspy.read()\n",
    "except TypeError:\n",
    "    # Needs to restart the runtime once, because obspy only works properly after restart.\n",
    "    print('Stopping RUNTIME. If you run this code for the first time, this is expected. Colaboratory will restart automatically. Please run again.')\n",
    "    exit()"
   ]
  },
  {
   "cell_type": "markdown",
   "id": "13c7d57a",
   "metadata": {},
   "source": [
    "# Determining earthquake depth through depth phase picking\n",
    "\n",
    "This tutorial shows how to determine the depth of an earthquake by picking teleseismic depth phases. This tutorial focuses on the practical application aspect. For more insights on depth phases and the models, have a look at the associated paper. In this tutorial, we will introduce two interfaces:\n",
    "\n",
    "- the *classify* interface - determine earthquake depth based on waveforms, P picks, and station-event distances.\n",
    "- the *DepthFinder* interface - determine earthquake depth from just a preliminar location\n",
    "\n",
    "**Note:** Some familiarity with obspy and FDSN webservices is helpful for this tutorial but not required."
   ]
  },
  {
   "cell_type": "code",
   "execution_count": 1,
   "id": "506f1caf",
   "metadata": {
    "ExecuteTime": {
     "end_time": "2023-10-13T07:17:29.216802Z",
     "start_time": "2023-10-13T07:17:28.070672Z"
    }
   },
   "outputs": [],
   "source": [
    "import seisbench.models as sbm\n",
    "\n",
    "import matplotlib.pyplot as plt\n",
    "import numpy as np\n",
    "import obspy\n",
    "from tqdm.notebook import tqdm\n",
    "from obspy.clients.fdsn import Client\n",
    "from obspy import UTCDateTime\n",
    "import scipy.stats"
   ]
  },
  {
   "cell_type": "markdown",
   "id": "2e35581f",
   "metadata": {},
   "source": [
    "## *classify* - the low-level interface\n",
    "\n",
    "To use the *classify* interface, we first need waveforms, picks, a station inventory and an epicenter. We use the FDSN webservice provided by GEOFON to download all this information.\n",
    "\n",
    "First, we download an event catalog and a station inventory. We select some events from 2010 and all stations from the GE global seismic network."
   ]
  },
  {
   "cell_type": "code",
   "execution_count": 2,
   "id": "9b727c7f",
   "metadata": {
    "ExecuteTime": {
     "end_time": "2023-10-13T07:17:36.324151Z",
     "start_time": "2023-10-13T07:17:29.218602Z"
    }
   },
   "outputs": [],
   "source": [
    "client = Client(\"GFZ\")\n",
    "\n",
    "t0 = UTCDateTime(\"2010-01-01\")\n",
    "t1 = UTCDateTime(\"2010-12-01\")\n",
    "\n",
    "catalog = client.get_events(starttime=t0, endtime=t1, minmagnitude=6.5, mindepth=50, includearrivals=True)\n",
    "inv = client.get_stations(network=\"GE\", starttime=t0, endtime=t1, level=\"CHANNEL\")"
   ]
  },
  {
   "cell_type": "markdown",
   "id": "a61a6568",
   "metadata": {},
   "source": [
    "Let's inspect the catalog."
   ]
  },
  {
   "cell_type": "code",
   "execution_count": 3,
   "id": "7cce1746",
   "metadata": {
    "ExecuteTime": {
     "end_time": "2023-10-13T07:17:36.330574Z",
     "start_time": "2023-10-13T07:17:36.326427Z"
    }
   },
   "outputs": [
    {
     "name": "stdout",
     "output_type": "stream",
     "text": [
      "8 Event(s) in Catalog:\n",
      "2010-08-12T11:54:15.780000Z |  -1.201,  -77.315 | 6.93 Mw(mB) | manual\n",
      "2010-07-23T23:15:10.200000Z |  +6.769, +123.262 | 7.38 Mw(mB) | manual\n",
      "2010-07-23T22:51:12.380000Z |  +6.496, +123.508 | 7.38 Mw(mB) | manual\n",
      "2010-07-23T22:08:10.890000Z |  +6.767, +123.472 | 6.81 Mw(Mwp) | manual\n",
      "2010-06-26T05:30:21.490000Z | -10.544, +161.473 | 6.57 M  | manual\n",
      "2010-04-11T09:40:29.860000Z | -10.871, +161.153 | 7.09 Mw(mB) | manual\n",
      "2010-03-14T00:57:46.730000Z |  -1.592, +128.204 | 6.52 Mw(mB) | manual\n",
      "2010-02-18T01:13:17.550000Z | +42.588, +130.613 | 6.5  Mw(Mwp) | manual\n"
     ]
    }
   ],
   "source": [
    "print(catalog)"
   ]
  },
  {
   "cell_type": "markdown",
   "id": "4b0785da",
   "metadata": {},
   "source": [
    "We select one event from out catalog and extract the hypocenter information."
   ]
  },
  {
   "cell_type": "code",
   "execution_count": 4,
   "id": "9b9f6985",
   "metadata": {
    "ExecuteTime": {
     "end_time": "2023-10-13T07:17:36.339387Z",
     "start_time": "2023-10-13T07:17:36.332492Z"
    }
   },
   "outputs": [],
   "source": [
    "event = catalog[0]\n",
    "\n",
    "epicenter = (event.preferred_origin().latitude, event.preferred_origin().longitude)"
   ]
  },
  {
   "cell_type": "markdown",
   "id": "2c98eeca",
   "metadata": {},
   "source": [
    "We extract the list of first P arrivals as listed in the catalog. We then download all waveforms from stations in the GE network for which a pick was listed."
   ]
  },
  {
   "cell_type": "code",
   "execution_count": 5,
   "id": "1ad95f2d",
   "metadata": {
    "ExecuteTime": {
     "end_time": "2023-10-13T07:17:43.766836Z",
     "start_time": "2023-10-13T07:17:36.340777Z"
    }
   },
   "outputs": [
    {
     "data": {
      "application/vnd.jupyter.widget-view+json": {
       "model_id": "b212918a00504da5ba3a5ea9d1df924b",
       "version_major": 2,
       "version_minor": 0
      },
      "text/plain": [
       "  0%|          | 0/28 [00:00<?, ?it/s]"
      ]
     },
     "metadata": {},
     "output_type": "display_data"
    },
    {
     "name": "stderr",
     "output_type": "stream",
     "text": [
      "/home/muchmej/anaconda3/envs/seisbench/lib/python3.10/site-packages/obspy/io/mseed/headers.py:823: InternalMSEEDWarning: GE_MORC__BHN_D: Warning: Number of blockettes in fixed header (1) does not match the number parsed (2)\n",
      "  warnings.warn(_w, InternalMSEEDWarning)\n",
      "/home/muchmej/anaconda3/envs/seisbench/lib/python3.10/site-packages/obspy/io/mseed/headers.py:823: InternalMSEEDWarning: GE_MORC__BHE_D: Warning: Number of blockettes in fixed header (1) does not match the number parsed (2)\n",
      "  warnings.warn(_w, InternalMSEEDWarning)\n",
      "/home/muchmej/anaconda3/envs/seisbench/lib/python3.10/site-packages/obspy/io/mseed/headers.py:823: InternalMSEEDWarning: GE_MORC__BHZ_D: Warning: Number of blockettes in fixed header (1) does not match the number parsed (2)\n",
      "  warnings.warn(_w, InternalMSEEDWarning)\n"
     ]
    }
   ],
   "source": [
    "p_picks = {}\n",
    "\n",
    "for pick in event.picks:\n",
    "    if pick.waveform_id.network_code != \"GE\":\n",
    "        continue\n",
    "    \n",
    "    if pick.phase_hint == \"P\":\n",
    "        p_picks[pick.waveform_id.id[:-4]] = pick.time\n",
    "\n",
    "stream = obspy.Stream()\n",
    "for trace_id, time in tqdm(p_picks.items()):\n",
    "    stream += client.get_waveforms(*trace_id.split(\".\"), \"BH?\", time - 100, time + 200)"
   ]
  },
  {
   "cell_type": "markdown",
   "id": "52a80b05",
   "metadata": {},
   "source": [
    "Time to load the depth phase model. We use DepthPhaseTEAM, a multi-station model for depth estimation."
   ]
  },
  {
   "cell_type": "code",
   "execution_count": 6,
   "id": "84a20563",
   "metadata": {
    "ExecuteTime": {
     "end_time": "2023-10-13T07:17:43.825647Z",
     "start_time": "2023-10-13T07:17:43.769504Z"
    }
   },
   "outputs": [],
   "source": [
    "depth_model = sbm.DepthPhaseTEAM.from_pretrained(\"original\")"
   ]
  },
  {
   "cell_type": "markdown",
   "id": "bdc6eb0e",
   "metadata": {},
   "source": [
    "To estimate the actual depth levels, we use the *classify* function. It will automatically cut out the right segments from the waveforms, determine depth phase arrivals and backproject them onto the depth axis."
   ]
  },
  {
   "cell_type": "code",
   "execution_count": 7,
   "id": "ea5bfb94",
   "metadata": {
    "ExecuteTime": {
     "end_time": "2023-10-13T07:17:49.311598Z",
     "start_time": "2023-10-13T07:17:43.826860Z"
    }
   },
   "outputs": [],
   "source": [
    "depth_output = depth_model.classify(stream, p_picks, inventory=inv, epicenter=epicenter)"
   ]
  },
  {
   "cell_type": "code",
   "execution_count": 8,
   "id": "dafab1e8",
   "metadata": {
    "ExecuteTime": {
     "end_time": "2023-10-13T07:17:49.316086Z",
     "start_time": "2023-10-13T07:17:49.313074Z"
    }
   },
   "outputs": [
    {
     "name": "stdout",
     "output_type": "stream",
     "text": [
      "Catalog depth:\t202.5\n",
      "Inferred depth:\t205.0\n"
     ]
    }
   ],
   "source": [
    "print(f\"Catalog depth:\\t{event.preferred_origin().depth / 1e3:.1f}\\nInferred depth:\\t{depth_output.depth:.1f}\")"
   ]
  },
  {
   "cell_type": "markdown",
   "id": "c3274744",
   "metadata": {},
   "source": [
    "In addition to the depth, the model output contains further details on the prediction."
   ]
  },
  {
   "cell_type": "code",
   "execution_count": 9,
   "id": "f92d31c5",
   "metadata": {
    "ExecuteTime": {
     "end_time": "2023-10-13T07:17:49.326297Z",
     "start_time": "2023-10-13T07:17:49.317362Z"
    }
   },
   "outputs": [
    {
     "data": {
      "text/plain": [
       "dict_keys(['creator', 'depth', 'depth_levels', 'probabilities', 'avg_probabilities'])"
      ]
     },
     "execution_count": 9,
     "metadata": {},
     "output_type": "execute_result"
    }
   ],
   "source": [
    "depth_output.__dict__.keys()"
   ]
  },
  {
   "cell_type": "markdown",
   "id": "73c55675",
   "metadata": {},
   "source": [
    "In addition to the depth value, the model provides us with a likelihood curve for the depth of the event. We visualize these likelihoods below. We get one curve for each station (thin lines), the geometric average provides the joint likelihood (bold line). Note that the likelihoods are not normalized."
   ]
  },
  {
   "cell_type": "code",
   "execution_count": 10,
   "id": "78591bdb",
   "metadata": {
    "ExecuteTime": {
     "end_time": "2023-10-13T07:17:49.471516Z",
     "start_time": "2023-10-13T07:17:49.327934Z"
    }
   },
   "outputs": [
    {
     "data": {
      "text/plain": [
       "Text(0.5, 0, 'Likelihood')"
      ]
     },
     "execution_count": 10,
     "metadata": {},
     "output_type": "execute_result"
    },
    {
     "data": {
      "image/png": "[encoded data removed]",
      "text/plain": [
       "<Figure size 400x500 with 1 Axes>"
      ]
     },
     "metadata": {},
     "output_type": "display_data"
    }
   ],
   "source": [
    "fig = plt.figure(figsize=(4, 5))\n",
    "ax = fig.add_subplot(111)\n",
    "\n",
    "for prob in depth_output.probabilities:\n",
    "    ax.plot(prob / np.nanmax(prob), depth_output.depth_levels, lw=0.5, c=\"k\", alpha=0.3)\n",
    "    \n",
    "avg_prob = scipy.stats.mstats.gmean(depth_output.probabilities, nan_policy=\"omit\", axis=0)\n",
    "ax.plot(avg_prob / np.nanmax(avg_prob), depth_output.depth_levels, c=\"k\", lw=3, ls=\"-\")\n",
    "    \n",
    "ax.set_ylim(650, 0)\n",
    "ax.set_xlim(0)\n",
    "ax.set_ylabel(\"Depth [km]\")\n",
    "ax.set_xlabel(\"Likelihood\")"
   ]
  },
  {
   "cell_type": "markdown",
   "id": "89cae41e",
   "metadata": {},
   "source": [
    "## *DepthFinder* - the high-level interface"
   ]
  },
  {
   "cell_type": "markdown",
   "id": "ff6de081",
   "metadata": {},
   "source": [
    "The *classify* interface provides low-level access to our model. This is the right interface if you have the input data (waveforms, picks, inventory, epicenter) already available. If you only have a catalog of preliminary locations, you can use *DepthFinder*. Depth finder is a multistep process:\n",
    "\n",
    "- Determine the list of available stations from a list of predefined seismic networks through FDSN. These should usually be high-quality global networks.\n",
    "- Predict approximate P arrivals using a global 1D travel time model.\n",
    "- Download waveform segments around these arrivals through FDSN.\n",
    "- Repick P arrivals around the predicted P arrivals using a deep learning based model. Discard stations with no P arrival of sufficient confidence.\n",
    "- Determine event depth using the *classify* function of DepthPhaseNet or DepthPhaseTEAM.\n",
    "\n",
    "Let's see this in action. Below we create a DepthFinder based on DepthPhaseTEAM and PhaseNet trained on the GEOFON dataset. Make sure to always use a model trained on teleseismic data for repicking."
   ]
  },
  {
   "cell_type": "code",
   "execution_count": 11,
   "id": "9f419d65",
   "metadata": {
    "ExecuteTime": {
     "end_time": "2023-10-13T07:18:00.356788Z",
     "start_time": "2023-10-13T07:17:49.472878Z"
    }
   },
   "outputs": [],
   "source": [
    "depth_model = sbm.DepthPhaseTEAM.from_pretrained(\"original\")\n",
    "phase_model = sbm.PhaseNet.from_pretrained(\"geofon\")\n",
    "depth_finder = sbm.DepthFinder({\"GFZ\": [\"GE\"], \"IRIS\": [\"IU\", \"II\"]}, depth_model, phase_model)"
   ]
  },
  {
   "cell_type": "markdown",
   "id": "180d3215",
   "metadata": {},
   "source": [
    "We use the same event as above but now we only use the hypocenter. Note that we need to input a depth, but an approximate depth is sufficient as we only need it to predict initial travel times. After all, getting a good depth estimate is the target ot this model."
   ]
  },
  {
   "cell_type": "code",
   "execution_count": 12,
   "id": "497faccf",
   "metadata": {
    "ExecuteTime": {
     "end_time": "2023-10-13T07:18:00.361476Z",
     "start_time": "2023-10-13T07:18:00.358391Z"
    }
   },
   "outputs": [],
   "source": [
    "lat, lon, org_depth, time = (\n",
    "    event.preferred_origin().latitude,\n",
    "    event.preferred_origin().longitude,\n",
    "    event.preferred_origin().depth / 1e3,\n",
    "    event.preferred_origin().time\n",
    ")"
   ]
  },
  {
   "cell_type": "markdown",
   "id": "e1052f43",
   "metadata": {},
   "source": [
    "To run the DepthFinder, we use the get_depth method. As this method needs to communicate with FDSN webservices, it takes considerably longer than the *classify* interface. In turn, it requires less manual intervention."
   ]
  },
  {
   "cell_type": "code",
   "execution_count": 13,
   "id": "a0fba15f",
   "metadata": {
    "ExecuteTime": {
     "end_time": "2023-10-13T07:20:15.965562Z",
     "start_time": "2023-10-13T07:18:00.363218Z"
    }
   },
   "outputs": [
    {
     "name": "stderr",
     "output_type": "stream",
     "text": [
      "/home/muchmej/anaconda3/envs/seisbench/lib/python3.10/site-packages/obspy/io/mseed/headers.py:823: InternalMSEEDWarning: GE_MORC__BHN_D: Warning: Number of blockettes in fixed header (1) does not match the number parsed (2)\n",
      "  warnings.warn(_w, InternalMSEEDWarning)\n",
      "/home/muchmej/anaconda3/envs/seisbench/lib/python3.10/site-packages/obspy/io/mseed/headers.py:823: InternalMSEEDWarning: GE_MORC__BHE_D: Warning: Number of blockettes in fixed header (1) does not match the number parsed (2)\n",
      "  warnings.warn(_w, InternalMSEEDWarning)\n",
      "/home/muchmej/anaconda3/envs/seisbench/lib/python3.10/site-packages/obspy/io/mseed/headers.py:823: InternalMSEEDWarning: GE_MORC__BHZ_D: Warning: Number of blockettes in fixed header (1) does not match the number parsed (2)\n",
      "  warnings.warn(_w, InternalMSEEDWarning)\n"
     ]
    },
    {
     "name": "stdout",
     "output_type": "stream",
     "text": [
      "Catalog depth:\t202.5\n",
      "Inferred depth:\t209.0\n"
     ]
    }
   ],
   "source": [
    "depth_output = depth_finder.get_depth(lat, lon, org_depth, time)\n",
    "\n",
    "print(f\"Catalog depth:\\t{org_depth:.1f}\\nInferred depth:\\t{depth_output.depth:.1f}\")"
   ]
  },
  {
   "cell_type": "markdown",
   "id": "bd7f8028",
   "metadata": {},
   "source": [
    "The output of DepthFinder is identical to the output of DepthPhaseTEAM. Check out the documentation [here](https://seisbench.readthedocs.io/en/stable/pages/documentation/models.html#depth-phase-models)."
   ]
  }
 ],
 "metadata": {
  "kernelspec": {
   "display_name": "Python 3 (ipykernel)",
   "language": "python",
   "name": "python3"
  },
  "language_info": {
   "codemirror_mode": {
    "name": "ipython",
    "version": 3
   },
   "file_extension": ".py",
   "mimetype": "text/x-python",
   "name": "python",
   "nbconvert_exporter": "python",
   "pygments_lexer": "ipython3",
   "version": "3.11.7"
  }
 },
 "nbformat": 4,
 "nbformat_minor": 5
}
